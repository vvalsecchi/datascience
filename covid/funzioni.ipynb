{
 "cells": [
  {
   "cell_type": "code",
   "execution_count": 1,
   "metadata": {},
   "outputs": [],
   "source": [
    "def test_util():\n",
    "    return \"Import complete\""
   ]
  },
  {
   "cell_type": "code",
   "execution_count": 2,
   "metadata": {},
   "outputs": [],
   "source": [
    "def combina(l1,l2):\n",
    "    l3=[]\n",
    "    l4=[]\n",
    "    for x in range(len(l1)):\n",
    "        l3.append(l1[x])\n",
    "        l3.append(l2[x])\n",
    "        l4.append(l3)\n",
    "        l3=[]\n",
    "    return l4"
   ]
  },
  {
   "cell_type": "code",
   "execution_count": 11,
   "metadata": {},
   "outputs": [],
   "source": [
    "def combina_3(l1,l2,l5):\n",
    "    l3=[]\n",
    "    l4=[]\n",
    "    for x in range(len(l1)):\n",
    "        l3.append(l1[x])\n",
    "        l3.append(l2[x])\n",
    "        l3.append(l5[x])\n",
    "        l4.append(l3)\n",
    "        l3=[]\n",
    "    return l4"
   ]
  },
  {
   "cell_type": "code",
   "execution_count": 12,
   "metadata": {},
   "outputs": [],
   "source": [
    "def combina_4(l1,l2,l5,l6):\n",
    "    l3=[]\n",
    "    l4=[]\n",
    "    for x in range(len(l1)):\n",
    "        l3.append(l1[x])\n",
    "        l3.append(l2[x])\n",
    "        l3.append(l5[x])\n",
    "        l3.append(l6[x])\n",
    "        l4.append(l3)\n",
    "        l3=[]\n",
    "    return l4"
   ]
  },
  {
   "cell_type": "code",
   "execution_count": 3,
   "metadata": {},
   "outputs": [],
   "source": [
    "def classifica_contagi(l):\n",
    "    for x in range(len(l)):\n",
    "        print((x+1),') ',l[-x-1][0],': ',l[-x-1][1])"
   ]
  },
  {
   "cell_type": "code",
   "execution_count": 4,
   "metadata": {},
   "outputs": [],
   "source": [
    "def crono_contagi(df,l):#df regione, lista primi_tre #metodo per ottenere i contagi di una determianta serie di regioni\n",
    "    dff=df.copy()#df su cui lavorare qua\n",
    "    crono_tot=[]#lista di liste contenente le 3 cronologie\n",
    "    crono_parz=[]#lsita di appoggio in cui inserire i dati di una locazione\n",
    "    for x in range(len(l)):\n",
    "        regione=l[x]#regione su cui lavorare\n",
    "        indexNames = dff[ dff['region_name'] != regione ].index\n",
    "        dff.drop(indexNames , inplace=True)#droppo tutti i dati delle regioni che non mi servono\n",
    "        for y in dff.cumulative_cases:#estraggo i dati dei casi totali\n",
    "            crono_parz.append(y)\n",
    "        crono_tot.append(crono_parz)\n",
    "        crono_parz=[]\n",
    "        dff=df.copy()#resetto il dataframe d'appoggio\n",
    "    return crono_tot"
   ]
  },
  {
   "cell_type": "code",
   "execution_count": 14,
   "metadata": {},
   "outputs": [],
   "source": [
    "def crono_contagi_giorno(df,l):#df regione, lista primi_tre #metodo per ottenere i contagi di una determianta serie di regioni\n",
    "    dff=df.copy()#df su cui lavorare qua\n",
    "    crono_tot=[]#lista di liste contenente le 3 cronologie\n",
    "    crono_parz=[]#lsita di appoggio in cui inserire i dati di una locazione\n",
    "    for x in range(len(l)):\n",
    "        regione=l[x]#regione su cui lavorare\n",
    "        indexNames = dff[ dff['region_name'] != regione ].index\n",
    "        dff.drop(indexNames , inplace=True)#droppo tutti i dati delle regioni che non mi servono\n",
    "        for y in dff.daily_positive_cases:#estraggo i dati dei casi totali\n",
    "            crono_parz.append(y)\n",
    "        crono_tot.append(crono_parz)\n",
    "        crono_parz=[]\n",
    "        dff=df.copy()#resetto il dataframe d'appoggio\n",
    "    return crono_tot"
   ]
  },
  {
   "cell_type": "code",
   "execution_count": null,
   "metadata": {},
   "outputs": [],
   "source": [
    "def crono_contagi(df,l):#df regione, lista primi_tre #metodo per ottenere i contagi di una determianta serie di regioni\n",
    "    dff=df.copy()#df su cui lavorare qua\n",
    "    crono_tot=[]#lista di liste contenente le 3 cronologie\n",
    "    crono_parz=[]#lsita di appoggio in cui inserire i dati di una locazione\n",
    "    for x in range(len(l)):\n",
    "        regione=l[x]#regione su cui lavorare\n",
    "        indexNames = dff[ dff['region_name'] != regione ].index\n",
    "        dff.drop(indexNames , inplace=True)#droppo tutti i dati delle regioni che non mi servono\n",
    "        for y in dff.cumulative_cases:#estraggo i dati dei casi totali\n",
    "            crono_parz.append(y)\n",
    "        crono_tot.append(crono_parz)\n",
    "        crono_parz=[]\n",
    "        dff=df.copy()#resetto il dataframe d'appoggio\n",
    "    return crono_tot"
   ]
  },
  {
   "cell_type": "code",
   "execution_count": 5,
   "metadata": {},
   "outputs": [],
   "source": [
    "def crono_deceduti(df,l):#df regione, lista primi_tre #metodo per ottenere i contagi di una determianta serie di regioni\n",
    "    dff=df.copy()#df su cui lavorare qua\n",
    "    crono_tot=[]#lista di liste contenente le 3 cronologie\n",
    "    crono_parz=[]#lsita di appoggio in cui inserire i dati di una locazione\n",
    "    for x in range(len(l)):\n",
    "        regione=l[x]#regione su cui lavorare\n",
    "        indexNames = dff[ dff['region_name'] != regione ].index\n",
    "        dff.drop(indexNames , inplace=True)#droppo tutti i dati delle regioni che non mi servono\n",
    "        for y in dff.death:#estraggo i dati dei casi totali\n",
    "            crono_parz.append(y)\n",
    "        crono_tot.append(crono_parz)\n",
    "        crono_parz=[]\n",
    "        dff=df.copy()#resetto il dataframe d'appoggio\n",
    "            \n",
    "    return crono_tot"
   ]
  },
  {
   "cell_type": "code",
   "execution_count": 6,
   "metadata": {},
   "outputs": [],
   "source": [
    "def crono_dimessi(df,l):#df regione, lista primi_tre #metodo per ottenere i contagi di una determianta serie di regioni\n",
    "    dff=df.copy()#df su cui lavorare qua\n",
    "    crono_tot=[]#lista di liste contenente le 3 cronologie\n",
    "    crono_parz=[]#lsita di appoggio in cui inserire i dati di una locazione\n",
    "    for x in range(len(l)):\n",
    "        regione=l[x]#regione su cui lavorare\n",
    "        indexNames = dff[ dff['region_name'] != regione ].index\n",
    "        dff.drop(indexNames , inplace=True)#droppo tutti i dati delle regioni che non mi servono\n",
    "        for y in dff.recovered:#estraggo i dati dei casi totali\n",
    "            crono_parz.append(y)\n",
    "        crono_tot.append(crono_parz)\n",
    "        crono_parz=[]\n",
    "        dff=df.copy()#resetto il dataframe d'appoggio\n",
    "        \n",
    "    return crono_tot"
   ]
  },
  {
   "cell_type": "code",
   "execution_count": 7,
   "metadata": {},
   "outputs": [],
   "source": [
    "def crono_tamponi(df,l):#df regione, lista primi_tre\n",
    "    dff=df.copy()#df su cui lavorare qua\n",
    "    crono_tot=[]#lista di liste contenente le 3 cronologie\n",
    "    crono_parz=[]#lsita di appoggio in cui inserire i dati di una locazione\n",
    "    for x in range(len(l)):\n",
    "        regione=l[x]#regione su cui lavorare\n",
    "        indexNames = dff[ dff['region_name'] != regione ].index\n",
    "        dff.drop(indexNames , inplace=True)#droppo tutti i dati delle regioni che non mi servono\n",
    "        for y in dff.total_tests:#estraggo i dati dei casi totali\n",
    "            crono_parz.append(y)\n",
    "        crono_tot.append(crono_parz)\n",
    "        crono_parz=[]\n",
    "        dff=df.copy()#resetto il dataframe d'appoggio\n",
    "            \n",
    "    return crono_tot"
   ]
  },
  {
   "cell_type": "code",
   "execution_count": 8,
   "metadata": {},
   "outputs": [],
   "source": [
    "def crono_contagi_prov(df,l):#df regione, lista primi_tre\n",
    "    dff=df.copy()#df su cui lavorare qua\n",
    "    crono_tot=[]#lista di liste contenente le 3 cronologie\n",
    "    crono_parz=[]#lsita di appoggio in cui inserire i dati di una locazione\n",
    "    for x in range(len(l)):\n",
    "        prov=l[x]#provincia su cui lavorare\n",
    "        indexNames = dff[ dff['province_name'] != prov ].index\n",
    "        dff.drop(indexNames , inplace=True)#droppo tutti i dati delle regioni che non mi servono\n",
    "        for y in dff.total_cases:#estraggo i dati dei casi totali\n",
    "            crono_parz.append(y)\n",
    "        crono_tot.append(crono_parz)\n",
    "        crono_parz=[]\n",
    "        dff=df.copy()#resetto il dataframe d'appoggio\n",
    "            \n",
    "    return crono_tot"
   ]
  },
  {
   "cell_type": "code",
   "execution_count": 15,
   "metadata": {},
   "outputs": [],
   "source": [
    "def crono_contagi_prov_giorno(df,l):#df regione, lista primi_tre\n",
    "    dff=df.copy()#df su cui lavorare qua\n",
    "    crono_tot=[]#lista di liste contenente le 3 cronologie\n",
    "    crono_parz=[]#lsita di appoggio in cui inserire i dati di una locazione\n",
    "    for x in range(len(l)):\n",
    "        prov=l[x]#provincia su cui lavorare\n",
    "        indexNames = dff[ dff['province_name'] != prov ].index\n",
    "        dff.drop(indexNames , inplace=True)#droppo tutti i dati delle regioni che non mi servono\n",
    "        for y in dff.new_cases:#estraggo i dati dei casi totali\n",
    "            crono_parz.append(y)\n",
    "        crono_tot.append(crono_parz)\n",
    "        crono_parz=[]\n",
    "        dff=df.copy()#resetto il dataframe d'appoggio\n",
    "            \n",
    "    return crono_tot"
   ]
  },
  {
   "cell_type": "code",
   "execution_count": 9,
   "metadata": {},
   "outputs": [],
   "source": [
    "def media_contagi_giorno(c):#lista nomi, crono contagi\n",
    "    #contagi giorno precedente\n",
    "    ct=0 #contagi totali del giorno\n",
    "    m=[] #lista appoggio su cui effettuare la media\n",
    "    k=0 #accumulatore\n",
    "    mm=[]#lista da ritornare con dentro le medie fatte\n",
    "    for x in range(len(c)):#scorro la lista dei contagi\n",
    "        for y in range(len(c[x])):#scorro la lista interna dei contagi\n",
    "            ct=c[x][y]\n",
    "            if y==0: #se non ho ancora registrato contagi in giorno precedente\n",
    "                m.append(ct)#memorizzo subito i contagi totali  \n",
    "            else:#ho già registrato i contagi del giorno precedente\n",
    "                m.append(ct) #memorizzo i contagi effettivi del giorno\n",
    "        #effettuo media\n",
    "        for x in range(len(m)):\n",
    "            k=k+m[x]\n",
    "        mm.append(round(k/len(m),2))#media nuovi contagi giornalieri\n",
    "        k=0\n",
    "    return mm "
   ]
  },
  {
   "cell_type": "code",
   "execution_count": 10,
   "metadata": {},
   "outputs": [],
   "source": [
    "def media_decessi_giorno(c):#lista decessi\n",
    "    dp=0#decessi giorno precedente\n",
    "    dt=0#decessi totali\n",
    "    k=0#accumulatore\n",
    "    m=[]#lista per i valori delle differenze\n",
    "    for x in range(len(c)):#scorro lista decessi\n",
    "        dp=c[x]\n",
    "        if x==0:\n",
    "            dt=dp\n",
    "            m.append(dt)\n",
    "        if x!=0:\n",
    "            dp=dt\n",
    "            dt=c[x]\n",
    "            m.append(dt-dp)#salvo differenza tra decessi totali e quelli del giorno prima\n",
    "            dp=dt\n",
    "    for x in range(len(m)):\n",
    "        k=k+m[x]\n",
    "    return round(k/len(m),2)"
   ]
  },
  {
   "cell_type": "code",
   "execution_count": 6,
   "metadata": {},
   "outputs": [],
   "source": [
    "def normalizzatore(l):#lista di interi che viene normalizzata in un intervallo da 0 a 1\n",
    "    res=[]\n",
    "    for i in range(len(l)):\n",
    "        a=((l[i]-min(l))/(max(l)-min(l)))\n",
    "        res.append(a)\n",
    "    return(res)"
   ]
  },
  {
   "cell_type": "code",
   "execution_count": null,
   "metadata": {},
   "outputs": [],
   "source": []
  }
 ],
 "metadata": {
  "kernelspec": {
   "display_name": "Python 3",
   "language": "python",
   "name": "python3"
  },
  "language_info": {
   "codemirror_mode": {
    "name": "ipython",
    "version": 3
   },
   "file_extension": ".py",
   "mimetype": "text/x-python",
   "name": "python",
   "nbconvert_exporter": "python",
   "pygments_lexer": "ipython3",
   "version": "3.7.4"
  }
 },
 "nbformat": 4,
 "nbformat_minor": 2
}
