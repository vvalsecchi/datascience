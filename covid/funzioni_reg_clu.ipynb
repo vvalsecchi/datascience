{
 "cells": [
  {
   "cell_type": "markdown",
   "metadata": {},
   "source": [
    "FUNZIONI"
   ]
  },
  {
   "cell_type": "code",
   "execution_count": 5,
   "metadata": {},
   "outputs": [],
   "source": [
    "def test_util():\n",
    "    print(\"Import complete ☼\")"
   ]
  },
  {
   "cell_type": "code",
   "execution_count": 6,
   "metadata": {},
   "outputs": [],
   "source": [
    "def drawLine(model, X_test, y_test, title, R2):\n",
    "    fig = plt.figure()\n",
    "    ax = fig.add_subplot(212)\n",
    "    ax.scatter(X_test, y_test, c='g', marker='o')\n",
    "    ax.plot(X_test, model.predict(X_test), color='navy', linewidth=1, alpha=0.9)\n",
    "    title += \" R2: \" + str(R2)\n",
    "    ax.set_title(title)\n",
    "    print(title)\n",
    "    print(\"Intercept(s): \", model.intercept_)"
   ]
  },
  {
   "cell_type": "code",
   "execution_count": 7,
   "metadata": {},
   "outputs": [],
   "source": [
    "def getNewDailyCases (df):\n",
    "    crono=[] \n",
    "    for y in df.cumulative_cases:\n",
    "        crono.append(y)\n",
    "    res=[]\n",
    "    for i in range(len(crono)):\n",
    "        if i==0:\n",
    "            res.append(crono[i])\n",
    "            pre=crono[i]\n",
    "        if i!=0:\n",
    "            att=crono[i]\n",
    "            cur=att-pre\n",
    "            res.append(cur)\n",
    "            pre=att\n",
    "    return res"
   ]
  },
  {
   "cell_type": "code",
   "execution_count": 8,
   "metadata": {},
   "outputs": [],
   "source": [
    "def model_fit(x_train, y_train):\n",
    "    model = linear_model.LinearRegression().fit(x_train, y_train)\n",
    "    LinearRegression(copy_X=True, fit_intercept=True, n_jobs=1, normalize=False)\n",
    "    return model"
   ]
  },
  {
   "cell_type": "code",
   "execution_count": null,
   "metadata": {},
   "outputs": [],
   "source": []
  }
 ],
 "metadata": {
  "kernelspec": {
   "display_name": "Python 3",
   "language": "python",
   "name": "python3"
  },
  "language_info": {
   "codemirror_mode": {
    "name": "ipython",
    "version": 3
   },
   "file_extension": ".py",
   "mimetype": "text/x-python",
   "name": "python",
   "nbconvert_exporter": "python",
   "pygments_lexer": "ipython3",
   "version": "3.6.10"
  }
 },
 "nbformat": 4,
 "nbformat_minor": 2
}
